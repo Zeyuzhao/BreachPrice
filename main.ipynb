{
 "cells": [
  {
   "cell_type": "code",
   "execution_count": 2,
   "metadata": {},
   "outputs": [],
   "source": [
    "# TODO: come up with a better file name\n",
    "\n",
    "# Standard libraries\n",
    "import pandas as pd\n",
    "import numpy as np\n",
    "from scipy import stats\n",
    "# Visualization\n",
    "import matplotlib.pyplot as plt\n"
   ]
  },
  {
   "cell_type": "code",
   "execution_count": 50,
   "metadata": {},
   "outputs": [],
   "source": [
    "df = pd.read_csv(\"data/PRC Data Breach Chronology - 1.13.20.csv\" )\n",
    "\n",
    "# Data Cleaning\n",
    "df.drop(df.columns[[13,14,15]], axis=1, inplace = True)\n",
    "df = df[df['Total Records'].notna()]\n",
    "\n",
    "def records_to_int(record_str):\n",
    "    return int(str(record_str).replace(\",\", \"\"))\n",
    "\n",
    "df['Total Records'] = df['Total Records'].apply(records_to_int)\n",
    "\n",
    "# Drop rows with 0 total records (Maybe toggle this off we want to fill in data)\n",
    "df = df[df['Total Records'] != 0]\n"
   ]
  },
  {
   "cell_type": "code",
   "execution_count": null,
   "metadata": {},
   "outputs": [],
   "source": [
    "# TODO LIST:\n",
    "# What to do with 0 total records? - drop or use some averaging technique?\n",
    "# Combine this dataset with another one - make sure no repeats\n",
    "# Use some API to gather more info on these companies\n",
    "\n",
    "# Things to explore:\n",
    "# How do different type of attacks vary"
   ]
  },
  {
   "cell_type": "code",
   "execution_count": null,
   "metadata": {},
   "outputs": [],
   "source": []
  }
 ],
 "metadata": {
  "kernelspec": {
   "display_name": "Python 3",
   "language": "python",
   "name": "python3"
  },
  "language_info": {
   "codemirror_mode": {
    "name": "ipython",
    "version": 3
   },
   "file_extension": ".py",
   "mimetype": "text/x-python",
   "name": "python",
   "nbconvert_exporter": "python",
   "pygments_lexer": "ipython3",
   "version": "3.8.5"
  },
  "toc": {
   "base_numbering": 1,
   "nav_menu": {},
   "number_sections": true,
   "sideBar": true,
   "skip_h1_title": false,
   "title_cell": "Table of Contents",
   "title_sidebar": "Contents",
   "toc_cell": false,
   "toc_position": {},
   "toc_section_display": true,
   "toc_window_display": false
  }
 },
 "nbformat": 4,
 "nbformat_minor": 4
}
